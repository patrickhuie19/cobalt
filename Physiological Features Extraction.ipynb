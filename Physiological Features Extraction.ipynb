{
  "nbformat": 4,
  "nbformat_minor": 0,
  "metadata": {
    "kernelspec": {
      "display_name": "Python 3",
      "language": "python",
      "name": "python3"
    },
    "language_info": {
      "codemirror_mode": {
        "name": "ipython",
        "version": 3
      },
      "file_extension": ".py",
      "mimetype": "text/x-python",
      "name": "python",
      "nbconvert_exporter": "python",
      "pygments_lexer": "ipython3",
      "version": "3.8.3"
    },
    "colab": {
      "name": "Physiological Features Extraction.ipynb",
      "provenance": []
    }
  },
  "cells": [
    {
      "cell_type": "code",
      "metadata": {
        "id": "HQ5gQrSlXUhm",
        "outputId": "f585445a-700b-4964-b351-01d3fad2bd5d"
      },
      "source": [
        "#!pip install psycopg2-binary #for Michelle"
      ],
      "execution_count": null,
      "outputs": [
        {
          "output_type": "stream",
          "text": [
            "Requirement already satisfied: psycopg2-binary in c:\\users\\mnigc\\anaconda3\\lib\\site-packages (2.8.6)\n"
          ],
          "name": "stdout"
        }
      ]
    },
    {
      "cell_type": "code",
      "metadata": {
        "id": "GSa0IjrNXUhq"
      },
      "source": [
        "import numpy as np\n",
        "import pandas as pd\n",
        "import os, glob\n",
        "import sqlalchemy\n",
        "import sqlite3\n",
        "from sqlite3 import Error\n",
        "import sklearn as sk\n",
        "from sklearn.linear_model import LogisticRegression\n",
        "from sklearn import svm, metrics\n",
        "#from keras.utils import to_categorical\n",
        "from sklearn.preprocessing import LabelEncoder\n",
        "from sklearn.preprocessing import OneHotEncoder\n",
        "import math\n",
        "import gzip\n",
        "import csv\n",
        "import matplotlib.pyplot as plt\n",
        "import psycopg2"
      ],
      "execution_count": null,
      "outputs": []
    },
    {
      "cell_type": "markdown",
      "metadata": {
        "id": "y-a1EQ7JXUhr"
      },
      "source": [
        "# Connecting to mimic postgres database"
      ]
    },
    {
      "cell_type": "code",
      "metadata": {
        "id": "vC29lZG6XUhs"
      },
      "source": [
        "from sqlalchemy import create_engine\n",
        "\n",
        "# Postgres username, password, database name\n",
        "# @team - you'll need to change this according to what your Postgres info is under the Properties tab of your server in PgAdmin\n",
        "\n",
        "# Michelle's info\n",
        "#POSTGRES_ADDRESS = '127.0.0.1'\n",
        "#POSTGRES_PORT= '5432'\n",
        "#POSTGRES_USERNAME= 'postgres'\n",
        "#POSTGRES_PASSWORD= 'password'\n",
        "#POSTGRES_DBNAME = 'mimic'\n",
        "#postgres_str = ('postgresql://{username}:{password}@{ipaddress}:{port}/{dbname}'.format(username=POSTGRES_USERNAME,password=POSTGRES_PASSWORD,ipaddress=POSTGRES_ADDRESS,port=POSTGRES_PORT,dbname=POSTGRES_DBNAME))\n",
        "\n",
        "# Paroma's info \n",
        "POSTGRES_ADDRESS = 'localhost'   #127.0.0.1\n",
        "POSTGRES_PORT= '5432'\n",
        "POSTGRES_USERNAME= 'MacUser'\n",
        "POSTGRES_PASSWORD= ''\n",
        "POSTGRES_DBNAME = 'mimic'\n",
        "\n",
        "# putting in info\n",
        "postgres_str = ('postgresql://{username}:{password}@{ipaddress}:{port}/{dbname}?options=-csearch_path%3Dmimiciii'.format(username=POSTGRES_USERNAME,password=POSTGRES_PASSWORD,ipaddress=POSTGRES_ADDRESS,port=POSTGRES_PORT,dbname=POSTGRES_DBNAME))\n",
        "\n",
        "# Create the connection\n",
        "cnx = create_engine(postgres_str)\n"
      ],
      "execution_count": null,
      "outputs": []
    },
    {
      "cell_type": "code",
      "metadata": {
        "id": "epHXFxGqXUhs",
        "outputId": "e1fa6fed-b761-4bfd-8f3b-c20faec0bf3d"
      },
      "source": [
        "# path with all un-normalized data -chartevents, lab events, procedure events\n",
        "#path = \"C:/Users/mnigc/Documents/PCM/\" # for Michelle\n",
        "path = \"/Users/MacUser/Desktop/Fall_2020_Semester/Classes/Precision_Care_Medicine/Un-normalized_matched_patient_id_Data\"\n",
        "\n",
        "# FOR LABEVENTS\n",
        "# loading all files from path with labevent name\n",
        "cohort_files = glob.glob(os.path.join(path, \"lab_events_*\"))\n",
        "\n",
        "# initializing data frame\n",
        "cohort_df = []\n",
        "# loading all files into data frame\n",
        "for f in cohort_files:\n",
        "    df = pd.read_csv(f)\n",
        "    df['file'] = f.split('/')[-1]\n",
        "    cohort_df.append(df)\n",
        "    \n",
        "# concatenating files into single data frame    \n",
        "cohort = pd.concat(cohort_df, ignore_index=True)"
      ],
      "execution_count": null,
      "outputs": [
        {
          "output_type": "stream",
          "text": [
            "C:\\Users\\mnigc\\anaconda3\\lib\\site-packages\\IPython\\core\\interactiveshell.py:3071: DtypeWarning: Columns (4) have mixed types.Specify dtype option on import or set low_memory=False.\n",
            "  has_raised = await self.run_ast_nodes(code_ast.body, cell_name,\n"
          ],
          "name": "stderr"
        }
      ]
    },
    {
      "cell_type": "code",
      "metadata": {
        "id": "m687hdJQXUht",
        "outputId": "96bd5bd1-ccd1-4759-b50b-16ef8f92f17e"
      },
      "source": [
        "#  getting subject ids from cohort files\n",
        "patient_ids = cohort['subject_id']\n",
        "\n",
        "# get unique patient ids\n",
        "unique_ids=np.unique(patient_ids)\n",
        "\n",
        "# clear NaN\n",
        "unique_ids=unique_ids[~np.isnan(unique_ids)]\n",
        "\n",
        "# 2594 patients\n",
        "#print(len(unique_ids))\n",
        "\n",
        "# for each unique_ids, determine if each patient is alive (0) or dead (1)\n",
        "# 1403 dead patients and 1191 alive patients\n",
        "patient_list = [];\n",
        "for i in unique_ids:\n",
        "    query = 'SELECT subject_id, expire_flag FROM patients WHERE subject_id = {};'.format(i)\n",
        "    pat = pd.read_sql_query(query, cnx)\n",
        "    patient_list.append(pat)\n",
        "patient = pd.concat(patient_list, ignore_index=True) \n",
        "num_patients_dead = patient['expire_flag'].sum()\n",
        "num_patients_alive = len(unique_ids) - num_patients_dead;\n",
        "print(\"Number of dead patients: \", num_patients_dead)\n",
        "print(\"Number of alive patients: \", num_patients_alive)\n"
      ],
      "execution_count": null,
      "outputs": [
        {
          "output_type": "execute_result",
          "data": {
            "text/plain": [
              "2596"
            ]
          },
          "metadata": {
            "tags": []
          },
          "execution_count": 7
        }
      ]
    },
    {
      "cell_type": "markdown",
      "metadata": {
        "id": "O84xvaHKXUhu"
      },
      "source": [
        "# Feature extraction and cleaning by group"
      ]
    },
    {
      "cell_type": "code",
      "metadata": {
        "id": "jqTfWSBTXUhu"
      },
      "source": [
        "# find all the item ids - \n"
      ],
      "execution_count": null,
      "outputs": []
    },
    {
      "cell_type": "code",
      "metadata": {
        "id": "6Qhay1x0XUhu",
        "outputId": "a3272e10-4869-4d9b-d51c-91938f6f6733"
      },
      "source": [
        "# Albumin\n",
        "# 50862 (Albumin), 51069 (Albumin, Urine), 51070 (Albumin/Creatinine/Urine)\n",
        "\n",
        "albumin = pd.read_sql_query('''SELECT * FROM labevents WHERE itemid = 50862 OR itemid = 51069 OR itemid = 51070''',cnx)\n",
        "#print(albumin) # 151240 rows\n",
        "albumin1 = albumin[albumin['subject_id'].isin(unique_ids)] \n",
        "print(albumin1) # 16230 rows\n",
        "\n",
        "#alb_list = [];\n",
        "#for index, value in albumin_itemids.items():\n",
        "#    query = 'SELECT * FROM labevents WHERE itemid = ({});'.format(albumin_itemids[index])\n",
        "#    alb = pd.read_sql_query(query, cnx)\n",
        "#    alb_list.append(alb)\n",
        "#albumin = pd.concat(alb_list, ignore_index=True)\n",
        "#albumin1 = albumin[albumin['subject_id'].isin(unique_ids)] \n",
        "#print(albumin1)"
      ],
      "execution_count": null,
      "outputs": [
        {
          "output_type": "stream",
          "text": [
            "   itemid         linksto\n",
            "0    3066     chartevents\n",
            "1   45403  inputevents_cv\n",
            "   subject_id  hadm_id           charttime value valuenum warning\n",
            "0        1046   113191 2168-10-21 23:00:00  None     None    None\n",
            "Empty DataFrame\n",
            "Columns: [subject_id, hadm_id, charttime, amount]\n",
            "Index: []\n"
          ],
          "name": "stdout"
        }
      ]
    },
    {
      "cell_type": "code",
      "metadata": {
        "id": "2kJqvkS3XUhv"
      },
      "source": [
        "# Anion Gap (calculated from Na, K, Cl, HCO3)\n",
        "# 50868 (Anion Gap)\n",
        "\n",
        "anion_id = pd.read_sql_query('''SELECT itemid, linksto FROM d_items WHERE label='%Anion%';''',cnx)\n",
        "anion_itemids = anion_id['itemid']\n",
        "    \n",
        "#an_list = [];\n",
        "#for index, value in anion_itemids.items():\n",
        "#    query = 'SELECT * FROM labevents WHERE itemid = {};'.format(anion_itemids[index])\n",
        "#    an = pd.read_sql_query(query, cnx)\n",
        "#    an_list.append(an)\n",
        "#anion = pd.concat(an_list, ignore_index=True)\n",
        "#anion1 = anion[anion['subject_id'].isin(unique_ids)] \n",
        "#print(anion1)\n",
        "\n",
        "\n",
        "aniongap = pd.read_sql_query('''SELECT * FROM labevents WHERE \n",
        "itemid = 50868''',cnx)\n",
        "#print(aniongap) # 769810 rows\n",
        "aniongap1 = aniongap[aniongap['subject_id'].isin(unique_ids)] \n",
        "print(aniongap1) # 75608 rows"
      ],
      "execution_count": null,
      "outputs": []
    },
    {
      "cell_type": "code",
      "metadata": {
        "id": "3w8uR5QbXUhv"
      },
      "source": [
        "# Bilirubin\n",
        "# Bilirubin (51464), Bilirubin Crystals (51465)\n",
        "\n",
        "# Michelle's Code\n",
        "# find bilirubin ids from d_items \n",
        "#bilirubin_id=pd.read_sql_query('''SELECT itemid,label FROM d_labitems WHERE label LIKE '%Bilirubin%' or label LIKE '%Bilirubin' or label LIKE or label ='Bilirubin';''',cnx)\n",
        "#print(bilirubin_id)\n",
        "\n",
        "# find albumin entries in linksto tables for cohort\n",
        "#bilirubin_chart=pd.read_sql_query('''SELECT subject_id, hadm_id, charttime, value, valuenum, warning \n",
        "#FROM chartevents\n",
        "#WHERE itemid IN (3066);''',cnx)\n",
        "#albumin_input=pd.read_sql_query('''SELECT subject_id, hadm_id, charttime, amount FROM inputevents_cv WHERE itemid =45403''',cnx)\n",
        "\n",
        "# check to see if these people are in cohort\n",
        "#albumin_chart=albumin_chart[albumin_chart['subject_id'].isin(unique_ids)]\n",
        "#albumin_input=albumin_input[albumin_input['subject_id'].isin(unique_ids)]\n",
        "\n",
        "# Paroma's code\n",
        "bilirubin = pd.read_sql_query('''SELECT * FROM labevents WHERE \n",
        "itemid = 51464 OR \n",
        "itemid = 51465''',cnx)\n",
        "#print(bilirubin) # 99763 rows\n",
        "bilirubin1 = bilirubin[bilirubin['subject_id'].isin(unique_ids)] \n",
        "print(bilirubin1) # 10375 rows\n"
      ],
      "execution_count": null,
      "outputs": []
    },
    {
      "cell_type": "code",
      "metadata": {
        "id": "JpEVyp_gXUhw"
      },
      "source": [
        "# Chloride\n",
        "# 50806 (Chloride, Whole Blood), 50902 (Chloride), 51078 (Chloride, Urine)\n",
        "\n",
        "chloride = pd.read_sql_query('''SELECT * FROM labevents WHERE \n",
        "itemid = 50806 OR \n",
        "itemid = 50902 OR \n",
        "itemid = 51078''',cnx)\n",
        "#print(chloride) # 853268 rows\n",
        "chloride1 = chloride[chloride['subject_id'].isin(unique_ids)] \n",
        "print(chloride1) # 81899 rows"
      ],
      "execution_count": null,
      "outputs": []
    },
    {
      "cell_type": "code",
      "metadata": {
        "id": "14l_ZbheXUhw"
      },
      "source": [
        "# Creatinine\n",
        "# 50912 (Creatinine), 51067 (24 hr Creatinine), 51070 (Albumin), \n",
        "# 51073 (Amylase/Creatinine Ratio/Urine), 51080 (Creatinine Clearance),\n",
        "# 51081 (Creatinine, Serum), 51082 (Creatinine, Urine), 51099 (Protein/Creatinine Ratio),\n",
        "# 51106 (Urine Creatinine)\n",
        "\n",
        "creatinine = pd.read_sql_query('''SELECT * FROM labevents WHERE \n",
        "itemid = 50912 OR \n",
        "itemid = 51067 OR \n",
        "itemid = 51070 OR\n",
        "itemid = 51073 OR\n",
        "itemid = 51080 OR\n",
        "itemid = 51081 OR\n",
        "itemid = 51082 OR\n",
        "itemid = 51099 OR\n",
        "itemid = 51106''',cnx)\n",
        "#print(creatinine) # 841484 rows\n",
        "creatinine1 = creatinine[creatinine['subject_id'].isin(unique_ids)] \n",
        "print(creatinine1) # 83938 rows"
      ],
      "execution_count": null,
      "outputs": []
    },
    {
      "cell_type": "code",
      "metadata": {
        "id": "fRpkxv0CXUhx"
      },
      "source": [
        "# Diastolic BP\n",
        "# found in MIMIC-III Waveform Database Matched Subset"
      ],
      "execution_count": null,
      "outputs": []
    },
    {
      "cell_type": "code",
      "metadata": {
        "id": "Iwu0wIvwXUhx"
      },
      "source": [
        "# Epinephrine"
      ],
      "execution_count": null,
      "outputs": []
    },
    {
      "cell_type": "code",
      "metadata": {
        "id": "XiFM5CD7XUhx"
      },
      "source": [
        "# Glasgow Coma Scale"
      ],
      "execution_count": null,
      "outputs": []
    },
    {
      "cell_type": "code",
      "metadata": {
        "id": "9XfI5kFYXUhx"
      },
      "source": [
        "# Glucose\n",
        "# 50809 (Glucose), 50931 (Glucose), 51084 (Glucose, Urine), 51478 (Glucose)\n",
        "# 51529 (Estimated Actual Glucose)\n",
        "\n",
        "glucose = pd.read_sql_query('''SELECT * FROM labevents WHERE \n",
        "itemid = 50809 OR \n",
        "itemid = 50931 OR \n",
        "itemid = 51084 OR\n",
        "itemid = 51478 OR\n",
        "itemid = 51529''',cnx)\n",
        "#print(glucose) # 1047294 rows\n",
        "glucose1 = glucose[glucose['subject_id'].isin(unique_ids)] \n",
        "print(glucose1) # 109154 rows"
      ],
      "execution_count": null,
      "outputs": []
    },
    {
      "cell_type": "code",
      "metadata": {
        "id": "076IuRPVXUhy"
      },
      "source": [
        "# Heart rate\n",
        "# found in MIMIC-III Waveform Database Matched Subset"
      ],
      "execution_count": null,
      "outputs": []
    },
    {
      "cell_type": "code",
      "metadata": {
        "id": "j-a1bIGBXUhy"
      },
      "source": [
        "# Hemoglobin\n",
        "# 50811 (Hemoglobin), 50852 (% Hemoglobin A1c), 50855 (Absolute Hemoglobin),\n",
        "# 51212 (Fetal Hemoglobin), 51222 (Hemoglobin), 51223 (Hemoglobin A2),\n",
        "# 51224 (Hemoglobin C), 51225 (Hemoglobin F), \n",
        "# 51285 (Reticulocyte, Cellular Hemoglobin)\n",
        "\n",
        "hemoglobin = pd.read_sql_query('''SELECT * FROM labevents WHERE \n",
        "itemid = 50811 OR \n",
        "itemid = 50852 OR \n",
        "itemid = 50855 OR\n",
        "itemid = 51212 OR\n",
        "itemid = 51222 OR\n",
        "itemid = 51223 OR\n",
        "itemid = 51224 OR\n",
        "itemid = 51225 OR\n",
        "itemid = 51285''',cnx)\n",
        "#print(hemoglobin) # 863043 rows\n",
        "hemoglobin1 = hemoglobin[hemoglobin['subject_id'].isin(unique_ids)] \n",
        "print(hemoglobin1) # 85822 rows"
      ],
      "execution_count": null,
      "outputs": []
    },
    {
      "cell_type": "code",
      "metadata": {
        "id": "BRWzh6TIXUhy"
      },
      "source": [
        "# Intubation"
      ],
      "execution_count": null,
      "outputs": []
    },
    {
      "cell_type": "code",
      "metadata": {
        "id": "6dSNhHM4XUhy"
      },
      "source": [
        "# Lactate\n",
        "# 50813 (Lactate), 50954 (Lactate Dehydrogenase (LD))\n",
        "\n",
        "lactate = pd.read_sql_query('''SELECT * FROM labevents WHERE \n",
        "itemid = 50813 OR \n",
        "itemid = 50954''',cnx)\n",
        "#print(lactate) # 294236 rows\n",
        "lactate1 = lactate[lactate['subject_id'].isin(unique_ids)] \n",
        "print(lactate1) # 27199 rows"
      ],
      "execution_count": null,
      "outputs": []
    },
    {
      "cell_type": "code",
      "metadata": {
        "id": "9bOUTyAJXUhy"
      },
      "source": [
        "# Mean BP\n",
        "# found in MIMIC-III Waveform Database Matched Subset"
      ],
      "execution_count": null,
      "outputs": []
    },
    {
      "cell_type": "code",
      "metadata": {
        "id": "hSQcSIAZXUhz"
      },
      "source": [
        "# Mechanical ventilation"
      ],
      "execution_count": null,
      "outputs": []
    },
    {
      "cell_type": "code",
      "metadata": {
        "id": "MWoCy8-YXUhz"
      },
      "source": [
        "# pH\n",
        "# 50820 (pH), 51094 (pH), 51491 (pH)\n",
        "\n",
        "pH = pd.read_sql_query('''SELECT * FROM labevents WHERE \n",
        "itemid = 50820 OR \n",
        "itemid = 51094 OR \n",
        "itemid = 51491''',cnx)\n",
        "#print(pH) # 647990 rows\n",
        "pH1 = pH[pH['subject_id'].isin(unique_ids)] \n",
        "print(pH1) # 75593 rows"
      ],
      "execution_count": null,
      "outputs": []
    },
    {
      "cell_type": "code",
      "metadata": {
        "id": "bG9mHR18XUhz"
      },
      "source": [
        "# Platelet\n",
        "# 51240 (Large Platelets), 51264 (Platelet Clumps), 51265 (Platelet Count)\n",
        "# 51266 (Platelet Smear)\n",
        "\n",
        "platelet = pd.read_sql_query('''SELECT * FROM labevents WHERE \n",
        "itemid = 51240 OR \n",
        "itemid = 51264 OR \n",
        "itemid = 51265 OR \n",
        "itemid = 51266''',cnx)\n",
        "#print(platelet) # 829614 rows\n",
        "platelet1 = platelet[platelet['subject_id'].isin(unique_ids)] \n",
        "print(platelet1) # 82640 rows"
      ],
      "execution_count": null,
      "outputs": []
    },
    {
      "cell_type": "code",
      "metadata": {
        "id": "E-iH7QhgXUhz"
      },
      "source": [
        "# Potassium\n",
        "# 50822 (Potassium, Whole Blood), 50971 (Potassium), \n",
        "# 51097 (Potassium, Urine)\n",
        "\n",
        "potassium = pd.read_sql_query('''SELECT * FROM labevents WHERE \n",
        "itemid = 50822 OR \n",
        "itemid = 50971 OR \n",
        "itemid = 51097''',cnx)\n",
        "#print(potassium) # 1049617 rows\n",
        "potassium1 = potassium[potassium['subject_id'].isin(unique_ids)] \n",
        "print(potassium1) # 107268 rows"
      ],
      "execution_count": null,
      "outputs": []
    },
    {
      "cell_type": "code",
      "metadata": {
        "id": "O9s4e9XTXUh0"
      },
      "source": [
        "# Respiration rate"
      ],
      "execution_count": null,
      "outputs": []
    },
    {
      "cell_type": "code",
      "metadata": {
        "id": "oLkAJKF6XUh0"
      },
      "source": [
        "# Sodium\n",
        "# 50824 (Sodium, Whole Blood), 50983 (Sodium), 51100 (Sodium, Urine)\n",
        "\n",
        "sodium = pd.read_sql_query('''SELECT * FROM labevents WHERE \n",
        "itemid = 50824 OR \n",
        "itemid = 50983 OR \n",
        "itemid = 51100''',cnx)\n",
        "#print(sodium) # 905895 rows\n",
        "sodium1 = sodium[sodium['subject_id'].isin(unique_ids)] \n",
        "print(sodium1) # 88594 rows"
      ],
      "execution_count": null,
      "outputs": []
    },
    {
      "cell_type": "code",
      "metadata": {
        "id": "y0fYgjO3XUh0"
      },
      "source": [
        "# SOFA Score ?? ? ?  - Still need to get feedback from mentors re: inclusion"
      ],
      "execution_count": null,
      "outputs": []
    },
    {
      "cell_type": "code",
      "metadata": {
        "id": "FjAEmut8XUh1"
      },
      "source": [
        "# SpO2\n",
        "# found in MIMIC-III Waveform Database Matched Subset\n",
        "# also found it in lab events in mimiciii regular database\n",
        "# 50817 (Oxygen Saturation)\n",
        "SpO2_id = pd.read_sql_query('''SELECT itemid,label,fluid FROM d_labitems WHERE label LIKE '%Oxygen Saturation%';''',cnx)\n",
        "\n",
        "spo2 = pd.read_sql_query('''SELECT * FROM labevents WHERE itemid = 50817''',cnx)\n",
        "#print(spo2) # 173418 rows\n",
        "spo2_1 = spo2[spo2['subject_id'].isin(unique_ids)] \n",
        "print(spo2_1) #23979 rows"
      ],
      "execution_count": null,
      "outputs": []
    },
    {
      "cell_type": "code",
      "metadata": {
        "id": "HH1OQe8yXUh1"
      },
      "source": [
        "# Systolic BP\n",
        "# found in MIMIC-III Waveform Database Matched Subset"
      ],
      "execution_count": null,
      "outputs": []
    },
    {
      "cell_type": "code",
      "metadata": {
        "id": "QvJMUFQFXUh1"
      },
      "source": [
        "# Temperature\n",
        "# 50825 (Temperature)\n",
        "Temp_id = pd.read_sql_query('''SELECT itemid,label,fluid FROM d_labitems WHERE label LIKE '%Temp%';''',cnx)\n",
        "\n",
        "temp = pd.read_sql_query('''SELECT * FROM labevents WHERE itemid = 50825''',cnx)\n",
        "#print(temp) # 129444 rows\n",
        "temp1 = temp[temp['subject_id'].isin(unique_ids)] \n",
        "print(temp1) # 18162 rows"
      ],
      "execution_count": null,
      "outputs": []
    },
    {
      "cell_type": "code",
      "metadata": {
        "id": "7We3hF8IXUh1"
      },
      "source": [
        "# Urine output\n",
        "Urine_id = pd.read_sql_query('''SELECT itemid,label,fluid FROM d_labitems WHERE label LIKE '%Urine%';''',cnx)\n",
        "\n",
        "# 42 different Urine related labels\n",
        "# Need help deciding which ones to extract"
      ],
      "execution_count": null,
      "outputs": []
    },
    {
      "cell_type": "code",
      "metadata": {
        "id": "bTkIUpLNXUh2"
      },
      "source": [
        "# White blood count\n",
        "# https://www.cancer.gov/publications/dictionaries/cancer-terms/def/white-blood-cell\n",
        "# Types of WBCs: granulocytes (neutrophils, eosinophils, and basophils), \n",
        "# monocytes, and lymphocytes (T cells and B cells)\n",
        "# also include CD4, CD8, etc\n",
        "\n",
        "# 51130 (Absolute CD3 Count), 51131 (Absolute CD4 Count)\n",
        "# 51132 (Absolute CD8 Count), 51133 (Absolute Lymphocyte Count)\n",
        "# 51162 (CD16/56 Absolute Count), 51166 (CD19 Absolute Count)\n",
        "# 51170 (CD20 Absolute Count), 51175 (CD3 Absolute Count)\n",
        "# 51186 (CD5 Absolute Count), 51199 (Eosinophil Count)\n",
        "# 51218 (Granulocyte), 51253 (Monocyte Count), 51300 (WBC Count)\n",
        "\n",
        "WBC_id = pd.read_sql_query('''SELECT itemid,label,fluid FROM d_labitems WHERE label LIKE '%Count%';''',cnx)\n",
        "\n",
        "# Decided to cut down to the following labels\n",
        "# 51130 (Absolute CD3 Count), 51131 (Absolute CD4 Count)\n",
        "# 51132 (Absolute CD8 Count), 51133 (Absolute Lymphocyte Count)\n",
        "# 51218 (Granulocyte), 51300 (WBC Count)\n",
        "\n",
        "wbc = pd.read_sql_query('''SELECT * FROM labevents WHERE \n",
        "itemid = 51130 OR \n",
        "itemid = 51131 OR \n",
        "itemid = 51132 OR \n",
        "itemid = 51133 OR \n",
        "itemid = 51218 OR \n",
        "itemid = 51300''',cnx)\n",
        "#print(wbc) # 35600 rows\n",
        "wbc1 = wbc[wbc['subject_id'].isin(unique_ids)] \n",
        "print(wbc1) # 3212 rows\n"
      ],
      "execution_count": null,
      "outputs": []
    }
  ]
}