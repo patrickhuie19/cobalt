{
  "nbformat": 4,
  "nbformat_minor": 0,
  "metadata": {
    "colab": {
      "name": "Feature Extraction - Glasgow Coma Scale and SpO2.ipynb",
      "provenance": []
    },
    "kernelspec": {
      "name": "python3",
      "display_name": "Python 3"
    }
  },
  "cells": [
    {
      "cell_type": "code",
      "metadata": {
        "id": "TLNtnM8dZERY"
      },
      "source": [
        "# Paroma Mukhopadhyay\n",
        "# Perform feature extraction with tsfresh using Glasgow Coma Scale and SpO2\n",
        "# I originally just uploaded chartevents_minmax_normalized_part01.csv to play around with\n",
        "# I just walked through the quickstart tutorial to familiarize myself with tsfresh\n",
        "\n",
        "# Install tsfresh\n",
        "# https://tsfresh.readthedocs.io/en/latest/text/quick_start.html#quick-start-label\n",
        "!pip install tsfresh\n"
      ],
      "execution_count": null,
      "outputs": []
    },
    {
      "cell_type": "code",
      "metadata": {
        "id": "d8zHO15Ec2Gm"
      },
      "source": [
        "# Upload sample chart events data \n",
        "from google.colab import files\n",
        "uploaded = files.upload()"
      ],
      "execution_count": null,
      "outputs": []
    },
    {
      "cell_type": "code",
      "metadata": {
        "id": "zzK87b5gbTZu"
      },
      "source": [
        "import math\n",
        "import numpy as np\n",
        "import pandas as pd\n",
        "import matplotlib.pyplot as plt\n",
        "\n",
        "data1 = pd.read_csv(\"chartevents_minmax_normalized_part01.csv\")"
      ],
      "execution_count": null,
      "outputs": []
    },
    {
      "cell_type": "markdown",
      "metadata": {
        "id": "TH6PcBEIrMKi"
      },
      "source": [
        "Glasgow Coma Scale Score:\n",
        "\n",
        "note VALUENUM = score, VALUE = score and text descriptor\n",
        "\n",
        "ITEMID = 723, 223900 (VERBAL), 454, 223901 (MOTOR), 184, 220739 (EYES)\n",
        "\n",
        "location: chartevents\n",
        "\n",
        "Here are the time series for each itemid for Glasgow Coma Scale:"
      ]
    },
    {
      "cell_type": "code",
      "metadata": {
        "id": "wQwqGSdjgDzO"
      },
      "source": [
        "data1[data1['itemid'] == 723].plot(subplots=True, sharex=True, figsize=(10,10))\n",
        "plt.show()"
      ],
      "execution_count": null,
      "outputs": []
    },
    {
      "cell_type": "code",
      "metadata": {
        "id": "ygfIzu2RiZTy"
      },
      "source": [
        "# Verbal \n",
        "data1[data1['itemid'] == 223900].plot(subplots=True, sharex=True, figsize=(10,10))\n",
        "plt.show()"
      ],
      "execution_count": null,
      "outputs": []
    },
    {
      "cell_type": "code",
      "metadata": {
        "id": "Zo_gkT8Giluq"
      },
      "source": [
        "data1[data1['itemid'] == 454].plot(subplots=True, sharex=True, figsize=(10,10))\n",
        "plt.show()"
      ],
      "execution_count": null,
      "outputs": []
    },
    {
      "cell_type": "code",
      "metadata": {
        "id": "9B7DDJbHirhC"
      },
      "source": [
        "# Motor\n",
        "data1[data1['itemid'] == 223901].plot(subplots=True, sharex=True, figsize=(10,10))\n",
        "plt.show()"
      ],
      "execution_count": null,
      "outputs": []
    },
    {
      "cell_type": "code",
      "metadata": {
        "id": "zB8wD_Zgitw9"
      },
      "source": [
        "data1[data1['itemid'] == 184].plot(subplots=True, sharex=True, figsize=(10,10))\n",
        "plt.show()"
      ],
      "execution_count": null,
      "outputs": []
    },
    {
      "cell_type": "code",
      "metadata": {
        "id": "_ElIUiGbiwlh"
      },
      "source": [
        "# Eyes\n",
        "data1[data1['itemid'] == 220739].plot(subplots=True, sharex=True, figsize=(10,10))\n",
        "plt.show()"
      ],
      "execution_count": null,
      "outputs": []
    },
    {
      "cell_type": "markdown",
      "metadata": {
        "id": "_76qxVIMrRur"
      },
      "source": [
        "SpO2:\n",
        "\n",
        "ITEMID = 646 (CV), 220277 (MV)\n",
        "\n",
        "location: chartevents\n",
        "\n",
        "Here are the timeseries for each itemid in SpO2:"
      ]
    },
    {
      "cell_type": "code",
      "metadata": {
        "id": "2Q2oLOGvrVat"
      },
      "source": [
        "data1[data1['itemid'] == 646].plot(subplots=True, sharex=True, figsize=(10,10))\n",
        "plt.show()"
      ],
      "execution_count": null,
      "outputs": []
    },
    {
      "cell_type": "code",
      "metadata": {
        "id": "aC2Ilu4qr2ds"
      },
      "source": [
        "data1[data1['itemid'] == 220277].plot(subplots=True, sharex=True, figsize=(10,10))\n",
        "plt.show()"
      ],
      "execution_count": null,
      "outputs": []
    },
    {
      "cell_type": "markdown",
      "metadata": {
        "id": "deaX6Jh5jziL"
      },
      "source": [
        "Let's now extract features"
      ]
    },
    {
      "cell_type": "code",
      "metadata": {
        "id": "BzLU4BlHj2o1"
      },
      "source": [
        "# Perform the extraction, imputing and filtering at the same time\n",
        "from tsfresh import extract_relevant_features\n",
        "\n",
        "features_filtered_direct = extract_relevant_features(data1, data1['valuenum'],\n",
        "                                                     column_id='itemid', column_sort='charttime')"
      ],
      "execution_count": null,
      "outputs": []
    }
  ]
}