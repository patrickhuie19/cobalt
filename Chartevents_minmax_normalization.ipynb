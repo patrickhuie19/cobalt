{
  "nbformat": 4,
  "nbformat_minor": 0,
  "metadata": {
    "colab": {
      "name": "Chartevents_minmax_normalization.ipynb",
      "provenance": []
    },
    "kernelspec": {
      "name": "python3",
      "display_name": "Python 3"
    }
  },
  "cells": [
    {
      "cell_type": "code",
      "metadata": {
        "colab": {
          "resources": {
            "http://localhost:8080/nbextensions/google.colab/files.js": {
              "data": "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",
              "ok": true,
              "headers": [
                [
                  "content-type",
                  "application/javascript"
                ]
              ],
              "status": 200,
              "status_text": ""
            }
          },
          "base_uri": "https://localhost:8080/",
          "height": 956
        },
        "id": "IC_soRwEaXwD",
        "outputId": "1066ebdd-995d-41f5-8221-43cf311cd998"
      },
      "source": [
        "from google.colab import files\n",
        "uploaded = files.upload()"
      ],
      "execution_count": 1,
      "outputs": [
        {
          "output_type": "display_data",
          "data": {
            "text/html": [
              "\n",
              "     <input type=\"file\" id=\"files-712c2681-4f00-4c34-9e52-e25fd39f608e\" name=\"files[]\" multiple disabled\n",
              "        style=\"border:none\" />\n",
              "     <output id=\"result-712c2681-4f00-4c34-9e52-e25fd39f608e\">\n",
              "      Upload widget is only available when the cell has been executed in the\n",
              "      current browser session. Please rerun this cell to enable.\n",
              "      </output>\n",
              "      <script src=\"/nbextensions/google.colab/files.js\"></script> "
            ],
            "text/plain": [
              "<IPython.core.display.HTML object>"
            ]
          },
          "metadata": {
            "tags": []
          }
        },
        {
          "output_type": "stream",
          "text": [
            "Saving chartevents_matched_alive_part01.csv to chartevents_matched_alive_part01.csv\n",
            "Saving chartevents_matched_alive_part02.csv to chartevents_matched_alive_part02.csv\n",
            "Saving chartevents_matched_alive_part27.csv to chartevents_matched_alive_part27.csv\n",
            "Saving chartevents_matched_alive_part26.csv to chartevents_matched_alive_part26.csv\n",
            "Saving chartevents_matched_alive_part25.csv to chartevents_matched_alive_part25.csv\n",
            "Saving chartevents_matched_alive_part24.csv to chartevents_matched_alive_part24.csv\n",
            "Saving chartevents_matched_alive_part23.csv to chartevents_matched_alive_part23.csv\n",
            "Saving chartevents_matched_alive_part22.csv to chartevents_matched_alive_part22.csv\n",
            "Saving chartevents_matched_alive_part21.csv to chartevents_matched_alive_part21.csv\n",
            "Saving chartevents_matched_alive_part20.csv to chartevents_matched_alive_part20.csv\n",
            "Saving chartevents_matched_alive_part19.csv to chartevents_matched_alive_part19.csv\n",
            "Saving chartevents_matched_alive_part10.csv to chartevents_matched_alive_part10.csv\n",
            "Saving chartevents_matched_alive_part11.csv to chartevents_matched_alive_part11.csv\n",
            "Saving chartevents_matched_alive_part12.csv to chartevents_matched_alive_part12.csv\n",
            "Saving chartevents_matched_alive_part13.csv to chartevents_matched_alive_part13.csv\n",
            "Saving chartevents_matched_alive_part14.csv to chartevents_matched_alive_part14.csv\n",
            "Saving chartevents_matched_alive_part15.csv to chartevents_matched_alive_part15.csv\n",
            "Saving chartevents_matched_alive_part16.csv to chartevents_matched_alive_part16.csv\n",
            "Saving chartevents_matched_alive_part17.csv to chartevents_matched_alive_part17.csv\n",
            "Saving chartevents_matched_alive_part18.csv to chartevents_matched_alive_part18.csv\n",
            "Saving chartevents_matched_alive_part09.csv to chartevents_matched_alive_part09.csv\n",
            "Saving chartevents_matched_alive_part08.csv to chartevents_matched_alive_part08.csv\n",
            "Saving chartevents_matched_alive_part07.csv to chartevents_matched_alive_part07.csv\n",
            "Saving chartevents_matched_alive_part06.csv to chartevents_matched_alive_part06.csv\n",
            "Saving chartevents_matched_alive_part05.csv to chartevents_matched_alive_part05.csv\n",
            "Saving chartevents_matched_alive_part04.csv to chartevents_matched_alive_part04.csv\n",
            "Saving chartevents_matched_alive_part03.csv to chartevents_matched_alive_part03.csv\n"
          ],
          "name": "stdout"
        }
      ]
    },
    {
      "cell_type": "code",
      "metadata": {
        "id": "izh0cQjhbzHi",
        "colab": {
          "base_uri": "https://localhost:8080/"
        },
        "outputId": "f085c84c-4334-443b-850f-d85b4a76a428"
      },
      "source": [
        "import math\n",
        "import numpy as np\n",
        "import pandas as pd\n",
        "\n",
        "data1 = pd.read_csv(\"chartevents_matched_alive_part01.csv\") # 1000000\n",
        "data2 = pd.read_csv(\"chartevents_matched_alive_part02.csv\") # 1000000\n",
        "data3 = pd.read_csv(\"chartevents_matched_alive_part03.csv\") # 1000000\n",
        "data4 = pd.read_csv(\"chartevents_matched_alive_part04.csv\") # 1000000\n",
        "data5 = pd.read_csv(\"chartevents_matched_alive_part05.csv\") # 1000000\n",
        "data6 = pd.read_csv(\"chartevents_matched_alive_part06.csv\") # 1000000\n",
        "data7 = pd.read_csv(\"chartevents_matched_alive_part07.csv\") # 1000000\n",
        "data8 = pd.read_csv(\"chartevents_matched_alive_part08.csv\") # 1000000\n",
        "data9 = pd.read_csv(\"chartevents_matched_alive_part09.csv\") # 1000000\n",
        "data10 = pd.read_csv(\"chartevents_matched_alive_part10.csv\")  # 1000000\n",
        "data11 = pd.read_csv(\"chartevents_matched_alive_part11.csv\")  # 1000000\n",
        "data12 = pd.read_csv(\"chartevents_matched_alive_part12.csv\")  # 1000000 \n",
        "data13 = pd.read_csv(\"chartevents_matched_alive_part13.csv\")  # 1000000\n",
        "data14 = pd.read_csv(\"chartevents_matched_alive_part14.csv\")  # 1000000\n",
        "data15 = pd.read_csv(\"chartevents_matched_alive_part15.csv\")  # 1000000\n",
        "data16 = pd.read_csv(\"chartevents_matched_alive_part16.csv\")  # 1000000\n",
        "data17 = pd.read_csv(\"chartevents_matched_alive_part17.csv\")  # 1000000\n",
        "data18 = pd.read_csv(\"chartevents_matched_alive_part18.csv\")  # 1000000\n",
        "data19 = pd.read_csv(\"chartevents_matched_alive_part19.csv\")  # 1000000\n",
        "data20 = pd.read_csv(\"chartevents_matched_alive_part20.csv\")  # 1000000\n",
        "data21 = pd.read_csv(\"chartevents_matched_alive_part21.csv\")  # 1000000\n",
        "data22 = pd.read_csv(\"chartevents_matched_alive_part22.csv\")  # 1000000\n",
        "data23 = pd.read_csv(\"chartevents_matched_alive_part23.csv\")  # 1000000\n",
        "data24 = pd.read_csv(\"chartevents_matched_alive_part24.csv\")  # 1000000\n",
        "data25 = pd.read_csv(\"chartevents_matched_alive_part25.csv\")  # 1000000\n",
        "data26 = pd.read_csv(\"chartevents_matched_alive_part26.csv\")  # 1000000\n",
        "data27 = pd.read_csv(\"chartevents_matched_alive_part27.csv\")  # 823343\n",
        "data_dead = pd.read_csv(\"chartevents - dead.csv\")             # 1048575\n",
        "\n",
        "frames = [data1, data2, data3, data4, data5, data6, data7, data8, data9, data10, data11, data12, data13, data14, data15, data16, data17, data18, data19, data20, data21, data22, data23, data24, data25, data26, data27, data_dead];\n",
        "data = pd.concat(frames, ignore_index = True)\n",
        "print(data)"
      ],
      "execution_count": 2,
      "outputs": [
        {
          "output_type": "stream",
          "text": [
            "          subject_id  itemid         charttime  ...   hadm_id  icustay_id     cgid\n",
            "0               5806     646  25/08/2158 13:00  ...       NaN         NaN      NaN\n",
            "1               5806     742  25/08/2158 13:00  ...       NaN         NaN      NaN\n",
            "2               5806    1046  25/08/2158 13:00  ...       NaN         NaN      NaN\n",
            "3               5806    1087  25/08/2158 13:00  ...       NaN         NaN      NaN\n",
            "4               5806    1125  25/08/2158 13:00  ...       NaN         NaN      NaN\n",
            "...              ...     ...               ...  ...       ...         ...      ...\n",
            "27871913        9105     721           00:00.0  ...  103388.0    282920.0  21570.0\n",
            "27871914        9105     720           00:00.0  ...  103388.0    282920.0  21570.0\n",
            "27871915        9105     704           00:00.0  ...  103388.0    282920.0  21570.0\n",
            "27871916        9105     692           00:00.0  ...  103388.0    282920.0  21570.0\n",
            "27871917        9105     691           00:00.0  ...  103388.0    282920.0  21570.0\n",
            "\n",
            "[27871918 rows x 12 columns]\n"
          ],
          "name": "stdout"
        }
      ]
    },
    {
      "cell_type": "code",
      "metadata": {
        "colab": {
          "base_uri": "https://localhost:8080/"
        },
        "id": "dUxEVliOdIPI",
        "outputId": "6679b981-5d35-4492-c6fa-66f747ee4aef"
      },
      "source": [
        "# Chart events\n",
        "# Performed min/max normalization on valuenum for each corresponding itemid \n",
        "# (specifically on ALIVE AND DEAD ICU patients who met inclusion/exclusion criteria)\n",
        "# Formula = (valuenum - min)/(max - min)\n",
        "\n",
        "item_ids = data['itemid'].unique()   #find unique itemids\n",
        "len(item_ids)                        #find length of itemids\n",
        "size = (len(item_ids),3)             #define dimension of new matrix\n",
        "min_max_matrix  = np.zeros(size)     #create matrix that will store corresponding min and max of valuenum for every itemid\n",
        "\n",
        "for x in range(len(item_ids)):      \n",
        "  min_max_matrix[x,0] = item_ids[x]\n",
        "  min_max_matrix[x,1] = data['valuenum'].loc[(data['itemid'] == item_ids[x]) & (data['valuenum'] != 'NaN')].min()\n",
        "  min_max_matrix[x,2] = data['valuenum'].loc[(data['itemid'] == item_ids[x]) & (data['valuenum'] != 'NaN')].max()\n",
        "\n",
        "for y in range(len(data)):\n",
        "    result = np.where(min_max_matrix == data['itemid'].loc[y]);\n",
        "    if np.isnan(min_max_matrix[result[0][0]][1]):\n",
        "      min_max_matrix[result[0][0]][1] = 100001;\n",
        "    elif np.isnan(min_max_matrix[result[0][0]][2]):\n",
        "      min_max_matrix[result[0][0]][2] = 100001;\n",
        "    elif min_max_matrix[result[0][0]][1] == min_max_matrix[result[0][0]][2]:\n",
        "      min_max_matrix[result[0][0]][1] = 100001;\n",
        "      min_max_matrix[result[0][0]][2] = 100001;\n",
        "    elif (min_max_matrix[result[0][0]][1] != 100001) & (min_max_matrix[result[0][0]][2] != 100001):\n",
        "      data['valuenum'].loc[y] = (data['valuenum'].loc[y] -  min_max_matrix[result[0][0]][1])/(min_max_matrix[result[0][0]][2] - min_max_matrix[result[0][0]][1]);"
      ],
      "execution_count": 3,
      "outputs": [
        {
          "output_type": "stream",
          "text": [
            "/usr/local/lib/python3.6/dist-packages/pandas/core/indexing.py:670: SettingWithCopyWarning: \n",
            "A value is trying to be set on a copy of a slice from a DataFrame\n",
            "\n",
            "See the caveats in the documentation: https://pandas.pydata.org/pandas-docs/stable/user_guide/indexing.html#returning-a-view-versus-a-copy\n",
            "  iloc._setitem_with_indexer(indexer, value)\n"
          ],
          "name": "stderr"
        }
      ]
    },
    {
      "cell_type": "code",
      "metadata": {
        "id": "EMeZ9P0NdX2r"
      },
      "source": [
        "# Let's break the big dataframe into many different dataframes:\n",
        "data_frame01 = data.loc[0:999999];\n",
        "data_frame02 = data.loc[1000000:1999999];\n",
        "data_frame03 = data.loc[2000000:2999999];\n",
        "data_frame04 = data.loc[3000000:3999999];\n",
        "data_frame05 = data.loc[4000000:4999999];\n",
        "data_frame06 = data.loc[5000000:5999999];\n",
        "data_frame07 = data.loc[6000000:6999999];\n",
        "data_frame08 = data.loc[7000000:7999999];\n",
        "data_frame09 = data.loc[8000000:8999999];\n",
        "data_frame10 = data.loc[9000000:9999999];\n",
        "data_frame11 = data.loc[10000000:10999999];\n",
        "data_frame12 = data.loc[11000000:11999999];\n",
        "data_frame13 = data.loc[12000000:12999999];\n",
        "data_frame14 = data.loc[13000000:13999999];\n",
        "data_frame15 = data.loc[14000000:14999999];\n",
        "data_frame16 = data.loc[15000000:15999999];\n",
        "data_frame17 = data.loc[16000000:16999999];\n",
        "data_frame18 = data.loc[17000000:17999999];\n",
        "data_frame19 = data.loc[18000000:18999999];\n",
        "data_frame20 = data.loc[19000000:19999999];\n",
        "data_frame21 = data.loc[20000000:20999999];\n",
        "data_frame22 = data.loc[21000000:21999999];\n",
        "data_frame23 = data.loc[22000000:22999999];\n",
        "data_frame24 = data.loc[23000000:23999999];\n",
        "data_frame25 = data.loc[24000000:24999999];\n",
        "data_frame26 = data.loc[25000000:25999999];\n",
        "data_frame27 = data.loc[26000000:26823343];    # 823343\n",
        "data_frame_dead = data.loc[26823344:27871919]; # 1048575"
      ],
      "execution_count": 4,
      "outputs": []
    },
    {
      "cell_type": "code",
      "metadata": {
        "id": "qz4u_ZC2qurE"
      },
      "source": [
        "data_frame01.to_csv(r\"chartevents_minmax_normalized_part01.csv\", index = False)\n",
        "data_frame02.to_csv(r\"chartevents_minmax_normalized_part02.csv\", index = False)\n",
        "data_frame03.to_csv(r\"chartevents_minmax_normalized_part03.csv\", index = False)\n",
        "data_frame04.to_csv(r\"chartevents_minmax_normalized_part04.csv\", index = False)\n",
        "data_frame05.to_csv(r\"chartevents_minmax_normalized_part05.csv\", index = False)\n",
        "data_frame06.to_csv(r\"chartevents_minmax_normalized_part06.csv\", index = False)\n",
        "data_frame07.to_csv(r\"chartevents_minmax_normalized_part07.csv\", index = False)\n",
        "data_frame08.to_csv(r\"chartevents_minmax_normalized_part08.csv\", index = False)\n",
        "data_frame09.to_csv(r\"chartevents_minmax_normalized_part09.csv\", index = False)\n",
        "data_frame10.to_csv(r\"chartevents_minmax_normalized_part10.csv\", index = False)\n",
        "data_frame11.to_csv(r\"chartevents_minmax_normalized_part11.csv\", index = False)\n",
        "data_frame12.to_csv(r\"chartevents_minmax_normalized_part12.csv\", index = False)\n",
        "data_frame13.to_csv(r\"chartevents_minmax_normalized_part13.csv\", index = False)\n",
        "data_frame14.to_csv(r\"chartevents_minmax_normalized_part14.csv\", index = False)\n",
        "data_frame15.to_csv(r\"chartevents_minmax_normalized_part15.csv\", index = False)\n",
        "data_frame16.to_csv(r\"chartevents_minmax_normalized_part16.csv\", index = False)\n",
        "data_frame17.to_csv(r\"chartevents_minmax_normalized_part17.csv\", index = False)\n",
        "data_frame18.to_csv(r\"chartevents_minmax_normalized_part18.csv\", index = False)\n",
        "data_frame19.to_csv(r\"chartevents_minmax_normalized_part19.csv\", index = False)\n",
        "data_frame20.to_csv(r\"chartevents_minmax_normalized_part20.csv\", index = False)\n",
        "data_frame21.to_csv(r\"chartevents_minmax_normalized_part21.csv\", index = False)\n",
        "data_frame22.to_csv(r\"chartevents_minmax_normalized_part22.csv\", index = False)\n",
        "data_frame23.to_csv(r\"chartevents_minmax_normalized_part23.csv\", index = False)\n",
        "data_frame24.to_csv(r\"chartevents_minmax_normalized_part24.csv\", index = False)\n",
        "data_frame25.to_csv(r\"chartevents_minmax_normalized_part25.csv\", index = False)\n",
        "data_frame26.to_csv(r\"chartevents_minmax_normalized_part26.csv\", index = False)\n",
        "data_frame27.to_csv(r\"chartevents_minmax_normalized_part27.csv\", index = False)\n",
        "data_frame_dead.to_csv(r\"chartevents_minmax_normalized_part28.csv\", index = False)"
      ],
      "execution_count": 5,
      "outputs": []
    }
  ]
}